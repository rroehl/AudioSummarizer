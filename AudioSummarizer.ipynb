{
 "cells": [
  {
   "cell_type": "code",
   "execution_count": 1,
   "metadata": {},
   "outputs": [],
   "source": [
    "import boto3, os"
   ]
  },
  {
   "cell_type": "code",
   "execution_count": 2,
   "metadata": {},
   "outputs": [],
   "source": [
    "dialogue_prompt_file_path = 'dialogue_summary_prompt_template.txt'\n",
    "region = 'us-east-1'\n",
    "lambda_layer_arn='arn:aws:lambda:us-east-1:638139650817:layer:robb_bedrock_lambda_layer:1'\n",
    "lambda_execution_role = \"arn:aws:iam::638139650817:role/RobbLambdaRole\"\n",
    "ml_bucket_name_text = \"robb.ml.bucket\"\n",
    "transcribe_bucket_name_text = \"robb.transcribe.bucket\""
   ]
  },
  {
   "cell_type": "code",
   "execution_count": 3,
   "metadata": {},
   "outputs": [],
   "source": [
    "#Helper functions\n",
    "\n",
    "from IPython.display import HTML, display\n",
    "import html\n",
    "import json\n",
    "\n",
    "def wrap( long_string, pre=False):\n",
    "    escaped_string = html.escape(long_string)\n",
    "    html_string = escaped_string.replace(\"\\n\", \"<br>\")\n",
    "    if pre:\n",
    "        display(HTML(f\"<div style='width: 600px; word-wrap: break-word;'>{html_string}</div>\"))\n",
    "    else:\n",
    "        display(HTML(f\"<div style='width: 600px; word-wrap: break-word;'><pre>{html_string}</pre></div>\"))\n",
    "        \n",
    "def text_file(file_path):\n",
    "    try:\n",
    "        # Open the file and read its contents into a string\n",
    "        with open(file_path, 'r', encoding='utf-8') as file:\n",
    "            text_string = file.read()\n",
    "\n",
    "        # Print the contents (optional)\n",
    "        print(f\"{file_path}:\")\n",
    "        wrap(text_string)\n",
    "\n",
    "    except FileNotFoundError:\n",
    "        print(f\"The file {file_path} was not found.\")\n",
    "    except Exception as e:\n",
    "        print(f\"An error occurred: {e}\")"
   ]
  },
  {
   "cell_type": "markdown",
   "metadata": {},
   "source": [
    "Write the summary prompt to local disk"
   ]
  },
  {
   "cell_type": "code",
   "execution_count": 4,
   "metadata": {},
   "outputs": [
    {
     "name": "stdout",
     "output_type": "stream",
     "text": [
      "Writing dialogue_summary_prompt_template.txt\n"
     ]
    }
   ],
   "source": [
    "%%writefile dialogue_summary_prompt_template.txt\n",
    "I need to summarize a conversation. The transcript of the conversation is between the <data> XML like tags.\n",
    "\n",
    "<data>\n",
    "{{transcript}}\n",
    "</data>\n",
    "\n",
    "The detailed summary must contain a one word sentiment analysis, and a list of issues, problems or causes of friction\n",
    "during the conversation. The output must be provided in JSON format shown in the following example. \n",
    "\n",
    "Example output:\n",
    "{\n",
    "    \"version\": 0.1,\n",
    "    \"sentiment\": <sentiment>,\n",
    "    \"issues\": [\n",
    "        {\n",
    "            \"topic\": <topic>,\n",
    "            \"summary\": <issue_summary>,\n",
    "        }\n",
    "    ]\n",
    "}\n",
    "\n",
    "An `issue_summary` must only be one of:\n",
    "{%- for topic in topics %}\n",
    " - `{{topic}}`\n",
    "{% endfor %}\n",
    "\n",
    "Write the JSON output and nothing more.\n",
    "\n",
    "Here is the JSON output:"
   ]
  },
  {
   "cell_type": "code",
   "execution_count": 5,
   "metadata": {},
   "outputs": [
    {
     "name": "stdout",
     "output_type": "stream",
     "text": [
      "dialogue_summary_prompt_template.txt:\n"
     ]
    },
    {
     "data": {
      "text/html": [
       "<div style='width: 600px; word-wrap: break-word;'><pre>I need to summarize a conversation. The transcript of the conversation is between the &lt;data&gt; XML like tags.<br><br>&lt;data&gt;<br>{{transcript}}<br>&lt;/data&gt;<br><br>The detailed summary must contain a one word sentiment analysis, and a list of issues, problems or causes of friction<br>during the conversation. The output must be provided in JSON format shown in the following example. <br><br>Example output:<br>{<br>    &quot;version&quot;: 0.1,<br>    &quot;sentiment&quot;: &lt;sentiment&gt;,<br>    &quot;issues&quot;: [<br>        {<br>            &quot;topic&quot;: &lt;topic&gt;,<br>            &quot;summary&quot;: &lt;issue_summary&gt;,<br>        }<br>    ]<br>}<br><br>An `issue_summary` must only be one of:<br>{%- for topic in topics %}<br> - `{{topic}}`<br>{% endfor %}<br><br>Write the JSON output and nothing more.<br><br>Here is the JSON output:<br></pre></div>"
      ],
      "text/plain": [
       "<IPython.core.display.HTML object>"
      ]
     },
     "metadata": {},
     "output_type": "display_data"
    }
   ],
   "source": [
    "text_file(dialogue_prompt_file_path)\n"
   ]
  },
  {
   "cell_type": "code",
   "execution_count": 6,
   "metadata": {},
   "outputs": [
    {
     "name": "stdout",
     "output_type": "stream",
     "text": [
      "Writing TranscribeLambdaFunction.py\n"
     ]
    }
   ],
   "source": [
    "%%writefile TranscribeLambdaFunction.py\n",
    "\n",
    "#############################################################\n",
    "#\n",
    "#\n",
    "#############################################################\n",
    "\n",
    "import boto3\n",
    "import json \n",
    "import uuid\n",
    "\n",
    "region = 'us-east-1'\n",
    "\n",
    "transcribe_client = boto3.client('transcribe', region_name='us-east-1')\n",
    "output_ml_bucket_name_text = \"robb.ml.bucket\"\n",
    "\n",
    "def lambda_handler(event, context):\n",
    "    \n",
    "    bucket = event['Records'][0]['s3']['bucket']['name']\n",
    "    key = event['Records'][0]['s3']['object']['key']\n",
    "    \n",
    "    print(\"The key is: \" + key)\n",
    "    \n",
    "    if \"mp3/\"  in key: \n",
    "        print(\"This app is working on a  with json file.\")\n",
    "        return_status = lambda_transcribe_client(bucket, key)\n",
    "     \n",
    "        \n",
    "    #return {\n",
    "     #   'statusCode': {return_status['statusCode']},\n",
    "      #  'body': json.dumps(f\"Successfully summarized {key} from bucket {bucket}.\")\n",
    "       # }\n",
    "       \n",
    "def lambda_transcribe_client(bucket, key):\n",
    "\n",
    "    # One of a few different checks to ensure we don't end up in a recursive loop.\n",
    "    if key != \"mp3/dialog.mp3\": \n",
    "        print(\"This demo only works with dialog.mp3.\")\n",
    "        return\n",
    "\n",
    "    try:\n",
    "        \n",
    "        job_name = 'transcription-job-' + str(uuid.uuid4()) # Needs to be a unique name\n",
    "\n",
    "        response = transcribe_client.start_transcription_job(\n",
    "            TranscriptionJobName=job_name,\n",
    "            Media={'MediaFileUri': f's3://{bucket}/{key}'},\n",
    "            MediaFormat='mp3',\n",
    "            LanguageCode='en-US',\n",
    "            OutputBucketName= output_ml_bucket_name_text,  # specify the output bucket\n",
    "            OutputKey=f'json/{job_name}-transcript.json',\n",
    "            Settings={\n",
    "                'ShowSpeakerLabels': True,\n",
    "                'MaxSpeakerLabels': 2\n",
    "            }\n",
    "        )\n",
    "        \n",
    "    except Exception as e:\n",
    "        print(f\"Error occurred: {e}\")\n",
    "        return {\n",
    "            'statusCode': 500,\n",
    "            'body': json.dumps(f\"Error occurred: {e}\")\n",
    "        }\n",
    "\n",
    "    return {\n",
    "        'statusCode': 200,\n",
    "        'body': json.dumps(f\"Submitted transcription job for {key} from bucket {bucket}.\")\n",
    "    }"
   ]
  },
  {
   "cell_type": "code",
   "execution_count": 7,
   "metadata": {},
   "outputs": [
    {
     "name": "stdout",
     "output_type": "stream",
     "text": [
      "Writing LambdaFunctionSummarize.py\n"
     ]
    }
   ],
   "source": [
    "%%writefile LambdaFunctionSummarize.py\n",
    "\n",
    "#############################################################\n",
    "#\n",
    "#\n",
    "#############################################################\n",
    "\n",
    "import boto3\n",
    "import json \n",
    "from jinja2 import Template\n",
    "\n",
    "region = 'us-east-1'\n",
    "\n",
    "s3_client = boto3.client('s3')\n",
    "bedrock_runtime = boto3.client('bedrock-runtime', region)\n",
    "\n",
    "def lambda_handler(event, context):\n",
    "    \n",
    "    bucket = event['Records'][0]['s3']['bucket']['name']\n",
    "    key = event['Records'][0]['s3']['object']['key']\n",
    "    \n",
    "    print(\"The key is: \" + key)\n",
    "    \n",
    "    if \"json/\"  in key: \n",
    "        print(\"This app is working on a  with json file.\")\n",
    "        return_status = lambda_summary_client( bucket, key )\n",
    "        \n",
    "    return {\n",
    "        'statusCode': '200',\n",
    "        'body': json.dumps(f\"Successfully summarized key from bucket bucket.\") \n",
    "        }   \n",
    "        \n",
    "    #return {\n",
    "     #   'statusCode': {return_status['statusCode']},\n",
    "      #  'body': json.dumps(f\"Successfully summarized {key} from bucket {bucket}.\")\n",
    "       # }\n",
    "    \n",
    "    \n",
    "def lambda_summary_client( bucket, key ):\n",
    "    \n",
    "    # One of a few different checks to ensure we don't end up in a recursive loop.\n",
    "    if \"-transcript.json\" not in key: \n",
    "        print(\"This demo only works with *-transcript.json.\")\n",
    "        return\n",
    "    \n",
    "    try: \n",
    "        file_content = \"\"\n",
    "        \n",
    "        response = s3_client.get_object(Bucket=bucket, Key=key)\n",
    "        \n",
    "        file_content = response['Body'].read().decode('utf-8')\n",
    "        \n",
    "        transcript = extract_transcript_from_textract(file_content)\n",
    "\n",
    "        print(f\"Successfully read file {key} from bucket {bucket}.\")\n",
    "\n",
    "        print(f\"Transcript: {transcript}\")\n",
    "        \n",
    "        summary = bedrock_summarisation(transcript)\n",
    "        \n",
    "        s3_client.put_object(\n",
    "            Bucket=bucket,\n",
    "            Key='results.txt',\n",
    "            Body=summary,\n",
    "            ContentType='text/plain'\n",
    "        )\n",
    "        \n",
    "    except Exception as e:\n",
    "        print(f\"Error occurred: {e}\")\n",
    "        return {\n",
    "            'statusCode': 500,\n",
    "            'body': json.dumps(f\"Error occurred: {e}\")\n",
    "            }\n",
    "\n",
    "    return {\n",
    "        'statusCode': 200,\n",
    "        'body': json.dumps(f\"Successfully summarized {key} from bucket {bucket}. Summary: {summary}\")\n",
    "        }\n",
    "\n",
    "def extract_transcript_from_textract(file_content):\n",
    "\n",
    "    transcript_json = json.loads(file_content)\n",
    "\n",
    "    output_text = \"\"\n",
    "    current_speaker = None\n",
    "\n",
    "    items = transcript_json['results']['items']\n",
    "\n",
    "    # Iterate through the content word by word:\n",
    "    for item in items:\n",
    "        speaker_label = item.get('speaker_label', None)\n",
    "        content = item['alternatives'][0]['content']\n",
    "        \n",
    "        # Start the line with the speaker label:\n",
    "        if speaker_label is not None and speaker_label != current_speaker:\n",
    "            current_speaker = speaker_label\n",
    "            output_text += f\"\\n{current_speaker}: \"\n",
    "        \n",
    "        # Add the speech content:\n",
    "        if item['type'] == 'punctuation':\n",
    "            output_text = output_text.rstrip()  # Remove the last space\n",
    "        \n",
    "        output_text += f\"{content} \"\n",
    "        \n",
    "    return output_text        \n",
    "        \n",
    "def bedrock_summarisation(transcript):\n",
    "    \n",
    "    with open('dialogue_summary_prompt_template.txt', \"r\") as file:\n",
    "        template_string = file.read()\n",
    "\n",
    "    data = {\n",
    "        'transcript': transcript,\n",
    "        'topics': ['charges', 'location', 'availability']\n",
    "    }\n",
    "    \n",
    "    template = Template(template_string)\n",
    "    prompt = template.render(data)\n",
    "    \n",
    "    print(prompt)\n",
    "    \n",
    "    kwargs = {\n",
    "        \"modelId\": \"amazon.titan-text-express-v1\",\n",
    "        \"contentType\": \"application/json\",\n",
    "        \"accept\": \"*/*\",\n",
    "        \"body\": json.dumps(\n",
    "            {\n",
    "                \"inputText\": prompt,\n",
    "                \"textGenerationConfig\": {\n",
    "                    \"maxTokenCount\": 2048,\n",
    "                    \"stopSequences\": [],\n",
    "                    \"temperature\": 0,\n",
    "                    \"topP\": 0.9\n",
    "                }\n",
    "            }\n",
    "        )\n",
    "    }\n",
    "    \n",
    "    response = bedrock_runtime.invoke_model(**kwargs)\n",
    "\n",
    "    summary = json.loads(response.get('body').read()).get('results')[0].get('outputText')    \n",
    "    return summary        \n"
   ]
  },
  {
   "cell_type": "code",
   "execution_count": 8,
   "metadata": {},
   "outputs": [
    {
     "name": "stdout",
     "output_type": "stream",
     "text": [
      "Using function name: TranscribeLambdaFunction\n",
      "Zipping function...\n",
      "Looking for existing function...\n",
      "Function TranscribeLambdaFunction exists. Updating code...\n",
      "Function TranscribeLambdaFunction code updated: 2024-03-28T22:25:37.000+0000\n",
      "Done.\n",
      "Using function name: LambdaFunctionSummarize\n",
      "Zipping function...\n",
      "Looking for existing function...\n",
      "Function LambdaFunctionSummarize exists. Updating code...\n",
      "Function LambdaFunctionSummarize code updated: 2024-03-28T22:25:43.000+0000\n",
      "Done.\n"
     ]
    }
   ],
   "source": [
    "# Deploy Lambda functions\n",
    "from helpers.Lambda_Helper import Lambda_Helper\n",
    "\n",
    "lambda_helper = Lambda_Helper(region, lambda_layer_arn, lambda_execution_role)\n",
    "# deploy_function\n",
    "# add_lambda_trigger\n",
    "\n",
    "transcribe_lambda_function_name = \"TranscribeLambdaFunction\"\n",
    "summarize_lambda_function_name = \"LambdaFunctionSummarize\"\n",
    "\n",
    "lambda_helper.deploy_function( [\"TranscribeLambdaFunction.py\"],function_name=transcribe_lambda_function_name)\n",
    "\n",
    "lambda_helper.deploy_function( [\"LambdaFunctionSummarize.py\", \"dialogue_summary_prompt_template.txt\"],function_name=summarize_lambda_function_name)"
   ]
  },
  {
   "cell_type": "code",
   "execution_count": 9,
   "metadata": {},
   "outputs": [
    {
     "name": "stdout",
     "output_type": "stream",
     "text": [
      "Using function name of deployed function: TranscribeLambdaFunction\n",
      "Function ARN : arn:aws:lambda:us-east-1:638139650817:function:TranscribeLambdaFunction\n",
      "Removed existing permission: s3-trigger-permission-for-TranscribeLambdaFunction\n",
      "Permission added with Statement: {\n",
      "    \"Sid\": \"s3-trigger-permission-for-TranscribeLambdaFunction\",\n",
      "    \"Effect\": \"Allow\",\n",
      "    \"Principal\": {\n",
      "        \"Service\": \"s3.amazonaws.com\"\n",
      "    },\n",
      "    \"Action\": \"lambda:InvokeFunction\",\n",
      "    \"Resource\": \"arn:aws:lambda:us-east-1:638139650817:function:TranscribeLambdaFunction\",\n",
      "    \"Condition\": {\n",
      "        \"ArnLike\": {\n",
      "            \"AWS:SourceArn\": \"arn:aws:s3:::robb.transcribe.bucket\"\n",
      "        }\n",
      "    }\n",
      "}\n",
      "Bucket name: robb.transcribe.bucket and notification configuration: {'LambdaFunctionConfigurations': [{'LambdaFunctionArn': 'arn:aws:lambda:us-east-1:638139650817:function:TranscribeLambdaFunction', 'Events': ['s3:ObjectCreated:Put'], 'Filter': {'Key': {'FilterRules': [{'Name': 'suffix', 'Value': 'mp3'}, {'Name': 'prefix', 'Value': 'mp3/'}]}}}]} \n",
      "Trigger added for robb.transcribe.bucket -> TranscribeLambdaFunction\n",
      "Using function name of deployed function: LambdaFunctionSummarize\n",
      "Function ARN : arn:aws:lambda:us-east-1:638139650817:function:LambdaFunctionSummarize\n",
      "Removed existing permission: s3-trigger-permission-for-LambdaFunctionSummarize\n",
      "Permission added with Statement: {\n",
      "    \"Sid\": \"s3-trigger-permission-for-LambdaFunctionSummarize\",\n",
      "    \"Effect\": \"Allow\",\n",
      "    \"Principal\": {\n",
      "        \"Service\": \"s3.amazonaws.com\"\n",
      "    },\n",
      "    \"Action\": \"lambda:InvokeFunction\",\n",
      "    \"Resource\": \"arn:aws:lambda:us-east-1:638139650817:function:LambdaFunctionSummarize\",\n",
      "    \"Condition\": {\n",
      "        \"ArnLike\": {\n",
      "            \"AWS:SourceArn\": \"arn:aws:s3:::robb.ml.bucket\"\n",
      "        }\n",
      "    }\n",
      "}\n",
      "Bucket name: robb.ml.bucket and notification configuration: {'LambdaFunctionConfigurations': [{'LambdaFunctionArn': 'arn:aws:lambda:us-east-1:638139650817:function:LambdaFunctionSummarize', 'Events': ['s3:ObjectCreated:Put'], 'Filter': {'Key': {'FilterRules': [{'Name': 'suffix', 'Value': 'json'}, {'Name': 'prefix', 'Value': 'json/'}]}}}]} \n",
      "Trigger added for robb.ml.bucket -> LambdaFunctionSummarize\n"
     ]
    }
   ],
   "source": [
    "#Configure the S3 Bucket Lamdba notificatoion\n",
    "filter_rule_list = [ {'Name': 'suffix','Value': 'mp3'},{'Name': 'prefix','Value': 'mp3/'}]\n",
    "\n",
    "lambda_helper.add_lambda_trigger(transcribe_bucket_name_text, filter_rule_list=filter_rule_list, function_name=transcribe_lambda_function_name)\n",
    "\n",
    "filter_rule_list = [ {'Name': 'suffix','Value': 'json'}, {'Name': 'prefix','Value': 'json/'}]\n",
    "\n",
    "lambda_helper.add_lambda_trigger(ml_bucket_name_text, filter_rule_list=filter_rule_list, function_name=summarize_lambda_function_name)"
   ]
  },
  {
   "cell_type": "markdown",
   "metadata": {},
   "source": [
    "ml_bucket_name_text ='c99355a2566046l6057108t1w532252118-learners3bucket-9armuhia70cz'\n",
    "arn:aws:s3:::{bucket_name}\""
   ]
  },
  {
   "cell_type": "code",
   "execution_count": 16,
   "metadata": {},
   "outputs": [
    {
     "name": "stdout",
     "output_type": "stream",
     "text": [
      "Object 'data/dialog.mp3' uploaded to bucket 'robb.transcribe.bucket'\n"
     ]
    }
   ],
   "source": [
    "#Upload the Lambda functions and prompt into the Lambda service\n",
    "from helpers.S3_Helper import S3_Helper\n",
    "s3_helper = S3_Helper(region)\n",
    "# upload_file\n",
    "s3_helper.upload_file_to_bucket(transcribe_bucket_name_text, 'data/dialog.mp3', 'mp3/dialog.mp3')"
   ]
  },
  {
   "cell_type": "code",
   "execution_count": 23,
   "metadata": {},
   "outputs": [
    {
     "name": "stdout",
     "output_type": "stream",
     "text": [
      "Object: json/, Created on: 2024-03-12 20:42:40+00:00\n",
      "Object: json/.write_access_check_file.temp, Created on: 2024-03-28 22:27:23+00:00\n",
      "Object: json/transcription-job-23fcb320-5e6c-4c27-a0b3-3f3d70235ae3-transcript.json, Created on: 2024-03-28 22:27:40+00:00\n",
      "Object: json/transcription-job-8aa5115b-cb5f-4a42-9af9-da97a55c4563-transcript.json, Created on: 2024-03-20 22:38:34+00:00\n",
      "Object: json/transcription-job-cecadd03-c2df-4ccb-871d-b206d2a1ec96-transcript.json, Created on: 2024-03-27 22:16:03+00:00\n",
      "Object: results.txt, Created on: 2024-03-28 22:27:46+00:00\n"
     ]
    }
   ],
   "source": [
    "s3_helper.list_objects(ml_bucket_name_text)\n",
    "#s3_helper.list_objects(transcribe_bucket_name_text)\n"
   ]
  },
  {
   "cell_type": "code",
   "execution_count": 24,
   "metadata": {},
   "outputs": [
    {
     "name": "stdout",
     "output_type": "stream",
     "text": [
      "Object 'results.txt' from bucket 'robb.ml.bucket' to './results.txt'\n",
      "results.txt:\n"
     ]
    },
    {
     "data": {
      "text/html": [
       "<div style='width: 600px; word-wrap: break-word;'><pre><br>{<br>    &quot;version&quot;: 0.1,<br>    &quot;sentiment&quot;: &quot;positive&quot;,<br>    &quot;issues&quot;: []<br>}</pre></div>"
      ],
      "text/plain": [
       "<IPython.core.display.HTML object>"
      ]
     },
     "metadata": {},
     "output_type": "display_data"
    }
   ],
   "source": [
    "s3_helper.download_object(ml_bucket_name_text, \"results.txt\")\n",
    "text_file(\"results.txt\")"
   ]
  },
  {
   "cell_type": "code",
   "execution_count": null,
   "metadata": {},
   "outputs": [],
   "source": [
    "import os\n",
    "def DeleteLocalFile( file_name:str):\n",
    "  if os.path.exists(file_name):\n",
    "    os.remove(file_name)\n",
    "    \n",
    "DeleteLocalFile(\"LambdaFunctionSummarize.py\")\n",
    "DeleteLocalFile(\"LambdaFunctionSummarize.zip\")\n",
    "DeleteLocalFile(\"dialogue_summary_prompt_template.txt\")\n",
    "DeleteLocalFile(\"TranscribeLambdaFunction.py\")\n",
    "DeleteLocalFile(\"TranscribeLambdaFunction.zip\")\n",
    "DeleteLocalFile(\"results.txt\")"
   ]
  }
 ],
 "metadata": {
  "kernelspec": {
   "display_name": "Python 3",
   "language": "python",
   "name": "python3"
  },
  "language_info": {
   "codemirror_mode": {
    "name": "ipython",
    "version": 3
   },
   "file_extension": ".py",
   "mimetype": "text/x-python",
   "name": "python",
   "nbconvert_exporter": "python",
   "pygments_lexer": "ipython3",
   "version": "3.11.7"
  }
 },
 "nbformat": 4,
 "nbformat_minor": 2
}
